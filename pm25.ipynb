{
 "cells": [
  {
   "cell_type": "code",
   "execution_count": 10,
   "outputs": [],
   "source": [
    "# Reading from full dataset (Method 1)\n",
    "import dask.dataframe as dd\n",
    "import numpy as np\n",
    "import pandas as pd\n",
    "df = dd.read_csv('./dataset/pm25/PM2.5_Hourly_Shard_*.csv', dtype={'sample_measurement': 'float64'})\n",
    "df = df.compute();"
   ],
   "metadata": {
    "collapsed": false,
    "pycharm": {
     "name": "#%%\n"
    }
   }
  },
  {
   "cell_type": "code",
   "execution_count": null,
   "outputs": [],
   "source": [
    "# Reading from full dataset (Method 2)\n",
    "import pandas as pd\n",
    "import glob\n",
    "import functools\n",
    "\n",
    "df2 = pd.concat(map(functools.partial(pd.read_csv, sep='|', compression=None),\n",
    "                    glob.glob(\"dataset/pm25/PM2.5_Hourly_Shard_*.csv\")))"
   ],
   "metadata": {
    "collapsed": false,
    "pycharm": {
     "name": "#%%\n"
    }
   }
  },
  {
   "cell_type": "code",
   "execution_count": 2,
   "outputs": [],
   "source": [
    "# Reading from part of dataset\n",
    "import numpy as np\n",
    "import pandas as pd\n",
    "# df = pd.read_csv('./dataset/pm25/PM2.5_Hourly_Shard_000000000000.csv')\n",
    "df = pd.read_csv('./dataset/pm25_small.csv')\n",
    "\n",
    "\n"
   ],
   "metadata": {
    "collapsed": false,
    "pycharm": {
     "name": "#%%\n"
    }
   }
  }
 ],
 "metadata": {
  "kernelspec": {
   "name": "python397jvsc74a57bd0b0fa6594d8f4cbf19f97940f81e996739fb7646882a419484c72d19e05852a7e",
   "language": "python",
   "display_name": "Python 3.9.7 64-bit"
  },
  "language_info": {
   "codemirror_mode": {
    "name": "ipython",
    "version": 2
   },
   "file_extension": ".py",
   "mimetype": "text/x-python",
   "name": "python",
   "nbconvert_exporter": "python",
   "pygments_lexer": "ipython2",
   "version": "2.7.6"
  }
 },
 "nbformat": 4,
 "nbformat_minor": 0
}