{
 "cells": [
  {
   "cell_type": "code",
   "execution_count": 1,
   "outputs": [
    {
     "name": "stderr",
     "output_type": "stream",
     "text": [
      "/opt/homebrew/lib/python3.9/site-packages/pandas/io/parsers/base_parser.py:1055: FutureWarning: \n",
      "        Use pd.to_datetime instead.\n",
      "\n",
      "  return generic_parser(date_parser, *date_cols)\n"
     ]
    }
   ],
   "source": [
    "# Reading from full dataset (Method 1)\n",
    "import time\n",
    "import dask.dataframe as dd\n",
    "import numpy as np\n",
    "import pandas as pd\n",
    "from datetime import datetime\n",
    "dateparse = lambda x1, x2: datetime.strptime(x1+\" \"+x2, '%Y-%m-%d %H:%M')\n",
    "df = dd.read_csv('./dataset/pm25/pm25_hourly_shard*.csv', dtype={'sample_measurement': 'float64', 'mdl': 'float64'}, parse_dates={'datetime_gmt': ['date_gmt', 'time_gmt']}, date_parser=dateparse)\n",
    "df = df.compute()\n",
    "df_copy = df.copy()"
   ],
   "metadata": {
    "collapsed": false,
    "pycharm": {
     "name": "#%%\n"
    }
   }
  },
  {
   "cell_type": "code",
   "execution_count": 2,
   "outputs": [],
   "source": [
    "# Reading from full dataset (Method 2)\n",
    "# import pandas as pd\n",
    "# import glob\n",
    "# import functools\n",
    "# df2 = pd.concat(map(functools.partial(pd.read_csv, sep='|', compression=None), glob.glob(\"dataset/pm25/PM2.5_Hourly_Shard_*.csv\")))"
   ],
   "metadata": {
    "collapsed": false,
    "pycharm": {
     "name": "#%%\n"
    }
   }
  },
  {
   "cell_type": "code",
   "execution_count": 3,
   "outputs": [],
   "source": [
    "# Reading from a subset of dataset\n",
    "# import numpy as np\n",
    "# import pandas as pd\n",
    "# from datetime import datetime\n",
    "\n",
    "# Method 1 - TypeError\n",
    "# dateparse = lambda x1: datetime.strptime(x1, '%Y-%m-%d %H:%M')\n",
    "# df = pd.read_csv('./dataset/pm25_small.csv', parse_dates={'datetime_gmt': ['date_gmt', 'time_gmt']}, date_parser=dateparse)\n",
    "# df_copy = df.copy()\n",
    "\n",
    "# Method 2 - ValueError, cannot convert string to float\n",
    "# df = pd.read_csv('./dataset/pm25_small.csv')\n",
    "\n",
    "# Method 3 - TypeError\n",
    "# dateparse = lambda date, time: [datetime.strptime(x1[0]+\" \"+x1[1], '%Y-%m-%d %H:%M') for x1 in zip(date,time)]\n",
    "# df = pd.read_csv('./dataset/pm25_small.csv', parse_dates={'datetime_gmt': ['date_gmt', 'time_gmt']}, date_parser=dateparse)\n",
    "\n",
    "# Method 4 - TypeError\n",
    "# def dateparse(d,t):\n",
    "#     dt = d + \" \" + t\n",
    "#     return pd.datetime.strptime(dt, '%Y-%m-%d %H:%M')\n",
    "# df = pd.read_csv('./dataset/pm25_small.csv', parse_dates={'datetime_gmt': ['date_gmt', 'time_gmt']}, date_parser=dateparse)"
   ],
   "metadata": {
    "collapsed": false,
    "pycharm": {
     "name": "#%%\n"
    }
   }
  },
  {
   "cell_type": "code",
   "execution_count": 4,
   "outputs": [],
   "source": [
    "# Preprocessing\n",
    "import datetime\n",
    "y = df['sample_measurement']\n",
    "y = y.to_numpy()\n",
    "datetime_gmt_int = df_copy.apply(lambda x1: x1['datetime_gmt'].timestamp(), axis=1)\n",
    "df['datetime_gmt'] = datetime_gmt_int\n",
    "del df_copy, datetime_gmt_int\n",
    "x = df.drop(['sample_measurement'], axis=1)\n",
    "x_names = x.columns"
   ],
   "metadata": {
    "collapsed": false,
    "pycharm": {
     "name": "#%%\n"
    }
   }
  },
  {
   "cell_type": "code",
   "execution_count": 5,
   "outputs": [],
   "source": [
    "# Feature standardization\n",
    "from sklearn import preprocessing\n",
    "x_std = preprocessing.StandardScaler().fit_transform(x)\n",
    "x_std = pd.DataFrame(x_std, columns=x_names)\n",
    "\n",
    "# Train/Test split (Non-standardized and standardized)\n",
    "from sklearn.model_selection import train_test_split\n",
    "x_train, x_test, y_train, y_test = train_test_split(\n",
    "    x, y, train_size=0.66, random_state=0)\n",
    "x_train_std, x_test_std, _, _ = train_test_split(\n",
    "    x_std, y, train_size=0.66, random_state=0)"
   ],
   "metadata": {
    "collapsed": false,
    "pycharm": {
     "name": "#%%\n"
    }
   }
  },
  {
   "cell_type": "code",
   "execution_count": 6,
   "outputs": [
    {
     "name": "stdout",
     "output_type": "stream",
     "text": [
      "Mean Absolute Error: 4.9377971198751\n",
      "MSE: 59.584709146475355\n",
      "MSE: 794026351470297.4\n",
      "R^2: 0.032651498552010216\n",
      "\n"
     ]
    }
   ],
   "source": [
    "# Linear Regression\n",
    "from sklearn.linear_model import LinearRegression\n",
    "reg1 = LinearRegression().fit(x_train, y_train)\n",
    "yHat = reg1.predict(x_test)\n",
    "from sklearn import metrics\n",
    "print(f'MAE: {metrics.mean_absolute_error(y_test, yHat)}')\n",
    "print(f'MSE: {metrics.mean_squared_error(y_test, yHat)}')\n",
    "print(f'MAPE: {metrics.mean_absolute_percentage_error(y_test, yHat)}')\n",
    "print(f'R^2: {metrics.r2_score(y_test, yHat)}\\n')\n",
    "# Mean Absolute Error: 4.9377971198751\n",
    "# MSE: 59.584709146475355\n",
    "# MAPE: 794026351470297.4\n",
    "# R^2: 0.032651498552010216"
   ],
   "metadata": {
    "collapsed": false,
    "pycharm": {
     "name": "#%%\n"
    }
   }
  },
  {
   "cell_type": "code",
   "execution_count": 7,
   "outputs": [
    {
     "name": "stderr",
     "output_type": "stream",
     "text": [
      "/opt/homebrew/lib/python3.9/site-packages/sklearn/linear_model/_ridge.py:156: LinAlgWarning: Ill-conditioned matrix (rcond=9.92758e-17): result may not be accurate.\n",
      "  return linalg.solve(A, Xy, sym_pos=True, overwrite_a=True).T\n",
      "/opt/homebrew/lib/python3.9/site-packages/sklearn/linear_model/_ridge.py:156: LinAlgWarning: Ill-conditioned matrix (rcond=9.92911e-17): result may not be accurate.\n",
      "  return linalg.solve(A, Xy, sym_pos=True, overwrite_a=True).T\n",
      "/opt/homebrew/lib/python3.9/site-packages/sklearn/linear_model/_ridge.py:156: LinAlgWarning: Ill-conditioned matrix (rcond=9.93017e-17): result may not be accurate.\n",
      "  return linalg.solve(A, Xy, sym_pos=True, overwrite_a=True).T\n",
      "/opt/homebrew/lib/python3.9/site-packages/sklearn/linear_model/_ridge.py:156: LinAlgWarning: Ill-conditioned matrix (rcond=9.9328e-17): result may not be accurate.\n",
      "  return linalg.solve(A, Xy, sym_pos=True, overwrite_a=True).T\n",
      "/opt/homebrew/lib/python3.9/site-packages/sklearn/linear_model/_ridge.py:156: LinAlgWarning: Ill-conditioned matrix (rcond=9.9347e-17): result may not be accurate.\n",
      "  return linalg.solve(A, Xy, sym_pos=True, overwrite_a=True).T\n",
      "/opt/homebrew/lib/python3.9/site-packages/sklearn/linear_model/_ridge.py:156: LinAlgWarning: Ill-conditioned matrix (rcond=9.92758e-17): result may not be accurate.\n",
      "  return linalg.solve(A, Xy, sym_pos=True, overwrite_a=True).T\n",
      "/opt/homebrew/lib/python3.9/site-packages/sklearn/linear_model/_ridge.py:156: LinAlgWarning: Ill-conditioned matrix (rcond=9.92911e-17): result may not be accurate.\n",
      "  return linalg.solve(A, Xy, sym_pos=True, overwrite_a=True).T\n",
      "/opt/homebrew/lib/python3.9/site-packages/sklearn/linear_model/_ridge.py:156: LinAlgWarning: Ill-conditioned matrix (rcond=9.93017e-17): result may not be accurate.\n",
      "  return linalg.solve(A, Xy, sym_pos=True, overwrite_a=True).T\n",
      "/opt/homebrew/lib/python3.9/site-packages/sklearn/linear_model/_ridge.py:156: LinAlgWarning: Ill-conditioned matrix (rcond=9.9328e-17): result may not be accurate.\n",
      "  return linalg.solve(A, Xy, sym_pos=True, overwrite_a=True).T\n",
      "/opt/homebrew/lib/python3.9/site-packages/sklearn/linear_model/_ridge.py:156: LinAlgWarning: Ill-conditioned matrix (rcond=9.9347e-17): result may not be accurate.\n",
      "  return linalg.solve(A, Xy, sym_pos=True, overwrite_a=True).T\n",
      "/opt/homebrew/lib/python3.9/site-packages/sklearn/linear_model/_ridge.py:156: LinAlgWarning: Ill-conditioned matrix (rcond=9.92759e-17): result may not be accurate.\n",
      "  return linalg.solve(A, Xy, sym_pos=True, overwrite_a=True).T\n",
      "/opt/homebrew/lib/python3.9/site-packages/sklearn/linear_model/_ridge.py:156: LinAlgWarning: Ill-conditioned matrix (rcond=9.92911e-17): result may not be accurate.\n",
      "  return linalg.solve(A, Xy, sym_pos=True, overwrite_a=True).T\n",
      "/opt/homebrew/lib/python3.9/site-packages/sklearn/linear_model/_ridge.py:156: LinAlgWarning: Ill-conditioned matrix (rcond=9.93018e-17): result may not be accurate.\n",
      "  return linalg.solve(A, Xy, sym_pos=True, overwrite_a=True).T\n",
      "/opt/homebrew/lib/python3.9/site-packages/sklearn/linear_model/_ridge.py:156: LinAlgWarning: Ill-conditioned matrix (rcond=9.93281e-17): result may not be accurate.\n",
      "  return linalg.solve(A, Xy, sym_pos=True, overwrite_a=True).T\n",
      "/opt/homebrew/lib/python3.9/site-packages/sklearn/linear_model/_ridge.py:156: LinAlgWarning: Ill-conditioned matrix (rcond=9.93471e-17): result may not be accurate.\n",
      "  return linalg.solve(A, Xy, sym_pos=True, overwrite_a=True).T\n",
      "/opt/homebrew/lib/python3.9/site-packages/sklearn/linear_model/_ridge.py:156: LinAlgWarning: Ill-conditioned matrix (rcond=9.93087e-17): result may not be accurate.\n",
      "  return linalg.solve(A, Xy, sym_pos=True, overwrite_a=True).T\n"
     ]
    },
    {
     "name": "stdout",
     "output_type": "stream",
     "text": [
      "Mean Absolute Error: 4.937797119827383\n",
      "MSE: 59.58470914649274\n",
      "MSE: 794026351570645.4\n",
      "R^2: 0.032651498551728\n",
      "\n"
     ]
    }
   ],
   "source": [
    "# Linear Regression with Ridge Regularization\n",
    "from sklearn.linear_model import RidgeCV\n",
    "reg2 = RidgeCV(alphas = [0.1, 0.5, 1, 5, 10], cv = 5, scoring = 'r2').fit(x_train, y_train)\n",
    "yHat = reg2.predict(x_test)\n",
    "from sklearn import metrics\n",
    "print(f'MAE: {metrics.mean_absolute_error(y_test, yHat)}')\n",
    "print(f'MSE: {metrics.mean_squared_error(y_test, yHat)}')\n",
    "print(f'MAPE: {metrics.mean_absolute_percentage_error(y_test, yHat)}')\n",
    "print(f'R^2: {metrics.r2_score(y_test, yHat)}\\n')\n",
    "# Mean Absolute Error: 4.937797119827383\n",
    "# MSE: 59.58470914649274\n",
    "# MAPE: 794026351570645.4\n",
    "# R^2: 0.032651498551728"
   ],
   "metadata": {
    "collapsed": false,
    "pycharm": {
     "name": "#%%\n"
    }
   }
  },
  {
   "cell_type": "code",
   "execution_count": 8,
   "outputs": [
    {
     "name": "stdout",
     "output_type": "stream",
     "text": [
      "Mean Absolute Error: 4.9377971198751\n",
      "MSE: 59.584709146475355\n",
      "MSE: 794026351470297.9\n",
      "R^2: 0.032651498552010216\n",
      "\n"
     ]
    }
   ],
   "source": [
    "# Linear Regression (Standardized)\n",
    "from sklearn.linear_model import LinearRegression\n",
    "reg3 = LinearRegression().fit(x_train_std, y_train)\n",
    "yHat = reg3.predict(x_test_std)\n",
    "from sklearn import metrics\n",
    "print(f'MAE: {metrics.mean_absolute_error(y_test, yHat)}')\n",
    "print(f'MSE: {metrics.mean_squared_error(y_test, yHat)}')\n",
    "print(f'MAPE: {metrics.mean_absolute_percentage_error(y_test, yHat)}')\n",
    "print(f'R^2: {metrics.r2_score(y_test, yHat)}\\n')\n",
    "# Mean Absolute Error: 4.9377971198751\n",
    "# MSE: 59.584709146475355\n",
    "# MAPE: 794026351470297.9\n",
    "# R^2: 0.032651498552010216"
   ],
   "metadata": {
    "collapsed": false,
    "pycharm": {
     "name": "#%%\n"
    }
   }
  },
  {
   "cell_type": "code",
   "execution_count": 13,
   "outputs": [
    {
     "name": "stdout",
     "output_type": "stream",
     "text": [
      "MAE: 4.937797137573696\n",
      "MSE: 59.58470914268629\n",
      "MAPE: 794026383407207.1\n",
      "R^2: 0.03265149861352501\n",
      "\n"
     ]
    }
   ],
   "source": [
    "# Linear Regression with Ridge Regularization (Standardized)\n",
    "from sklearn.linear_model import RidgeCV\n",
    "reg4 = RidgeCV(alphas = [0.1, 0.5, 1, 5, 10], cv = 5, scoring = 'r2').fit(x_train_std, y_train)\n",
    "yHat = reg4.predict(x_test_std)\n",
    "from sklearn import metrics\n",
    "print(f'MAE: {metrics.mean_absolute_error(y_test, yHat)}')\n",
    "print(f'MSE: {metrics.mean_squared_error(y_test, yHat)}')\n",
    "print(f'MAPE: {metrics.mean_absolute_percentage_error(y_test, yHat)}')\n",
    "print(f'R^2: {metrics.r2_score(y_test, yHat)}\\n')\n",
    "# MAE: 4.937797137573696\n",
    "# MSE: 59.58470914268629\n",
    "# MAPE: 794026383407207.1\n",
    "# R^2: 0.03265149861352501"
   ],
   "metadata": {
    "collapsed": false,
    "pycharm": {
     "name": "#%%\n"
    }
   }
  },
  {
   "cell_type": "code",
   "execution_count": 10,
   "outputs": [],
   "source": [
    "# Cross Validation\n",
    "from sklearn.model_selection import GridSearchCV\n"
   ],
   "metadata": {
    "collapsed": false,
    "pycharm": {
     "name": "#%%\n"
    }
   }
  },
  {
   "cell_type": "code",
   "execution_count": 12,
   "outputs": [
    {
     "name": "stdout",
     "output_type": "stream",
     "text": [
      "-10.0\n",
      "1248.9\n"
     ]
    }
   ],
   "source": [
    "# Model Metrics\n",
    "# from sklearn import metrics\n",
    "# print(f'MSE {metrics.mean_squared_error(y, yHat)}')\n"
   ],
   "metadata": {
    "collapsed": false,
    "pycharm": {
     "name": "#%%\n"
    }
   }
  }
 ],
 "metadata": {
  "kernelspec": {
   "name": "python397jvsc74a57bd0b0fa6594d8f4cbf19f97940f81e996739fb7646882a419484c72d19e05852a7e",
   "language": "python",
   "display_name": "Python 3.9.7 64-bit"
  },
  "language_info": {
   "codemirror_mode": {
    "name": "ipython",
    "version": 2
   },
   "file_extension": ".py",
   "mimetype": "text/x-python",
   "name": "python",
   "nbconvert_exporter": "python",
   "pygments_lexer": "ipython2",
   "version": "2.7.6"
  }
 },
 "nbformat": 4,
 "nbformat_minor": 0
}