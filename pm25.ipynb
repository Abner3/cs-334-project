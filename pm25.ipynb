{
 "cells": [
  {
   "cell_type": "code",
   "execution_count": 1,
   "outputs": [
    {
     "name": "stderr",
     "output_type": "stream",
     "text": [
      "/opt/homebrew/lib/python3.9/site-packages/pandas/io/parsers/base_parser.py:1055: FutureWarning: \n",
      "        Use pd.to_datetime instead.\n",
      "\n",
      "  return generic_parser(date_parser, *date_cols)\n"
     ]
    }
   ],
   "source": [
    "# Reading from full dataset (Method 1)\n",
    "# import time\n",
    "# import dask.dataframe as dd\n",
    "# import numpy as np\n",
    "# import pandas as pd\n",
    "# from datetime import datetime\n",
    "# dateparse = lambda x1, x2: datetime.strptime(x1+\" \"+x2, '%Y-%m-%d %H:%M')\n",
    "# df = dd.read_csv('./dataset/pm25/pm25_hourly_shard*.csv', dtype={'sample_measurement': 'float64', 'mdl': 'float64'}, parse_dates={'datetime_gmt': ['date_gmt', 'time_gmt']}, date_parser=dateparse)\n",
    "# df = df.compute()\n",
    "# df_copy = df.copy()"
   ],
   "metadata": {
    "collapsed": false,
    "pycharm": {
     "name": "#%%\n"
    }
   }
  },
  {
   "cell_type": "code",
   "execution_count": 16,
   "outputs": [],
   "source": [
    "# Reading from full dataset (Method 2)\n",
    "# import pandas as pd\n",
    "# import glob\n",
    "# import functools\n",
    "# df2 = pd.concat(map(functools.partial(pd.read_csv, sep='|', compression=None), glob.glob(\"dataset/pm25/PM2.5_Hourly_Shard_*.csv\")))"
   ],
   "metadata": {
    "collapsed": false,
    "pycharm": {
     "name": "#%%\n"
    }
   }
  },
  {
   "cell_type": "code",
   "execution_count": 6,
   "outputs": [],
   "source": [
    "# Reading from a subset of dataset\n",
    "import numpy as np\n",
    "import pandas as pd\n",
    "from datetime import datetime\n",
    "\n",
    "# Method 1 - TypeError\n",
    "dateparse = lambda x1: datetime.strptime(x1, '%Y-%m-%d %H:%M')\n",
    "df = pd.read_csv('./dataset/pm25_small.csv', parse_dates={'datetime_gmt': ['date_gmt', 'time_gmt']}, date_parser=dateparse)\n",
    "df_copy = df.copy()\n",
    "\n",
    "# Method 2 - ValueError, cannot convert string to float\n",
    "# df = pd.read_csv('./dataset/pm25_small.csv')\n",
    "\n",
    "# Method 3 - TypeError\n",
    "# dateparse = lambda date, time: [datetime.strptime(x1[0]+\" \"+x1[1], '%Y-%m-%d %H:%M') for x1 in zip(date,time)]\n",
    "# df = pd.read_csv('./dataset/pm25_small.csv', parse_dates={'datetime_gmt': ['date_gmt', 'time_gmt']}, date_parser=dateparse)\n",
    "\n",
    "# Method 4 - TypeError\n",
    "# def dateparse(d,t):\n",
    "#     dt = d + \" \" + t\n",
    "#     return pd.datetime.strptime(dt, '%Y-%m-%d %H:%M')\n",
    "# df = pd.read_csv('./dataset/pm25_small.csv', parse_dates={'datetime_gmt': ['date_gmt', 'time_gmt']}, date_parser=dateparse)\n"
   ],
   "metadata": {
    "collapsed": false,
    "pycharm": {
     "name": "#%%\n"
    }
   }
  },
  {
   "cell_type": "code",
   "execution_count": 7,
   "outputs": [],
   "source": [
    "# No Preprocessing\n",
    "# import datetime\n",
    "# y = df['sample_measurement']\n",
    "# y = y.to_numpy()\n",
    "# datetime_gmt_int = df_copy.apply(lambda x1: x1['datetime_gmt'].timestamp(), axis=1)\n",
    "# df['datetime_gmt'] = datetime_gmt_int\n",
    "# x = df.drop(['sample_measurement'], axis=1)\n",
    "# del df, df_copy, datetime_gmt_int\n",
    "# x_names = x.columns"
   ],
   "metadata": {
    "collapsed": false,
    "pycharm": {
     "name": "#%%\n"
    }
   }
  },
  {
   "cell_type": "code",
   "execution_count": 8,
   "outputs": [
    {
     "ename": "NameError",
     "evalue": "name 'df' is not defined",
     "output_type": "error",
     "traceback": [
      "\u001B[0;31m---------------------------------------------------------------------------\u001B[0m",
      "\u001B[0;31mNameError\u001B[0m                                 Traceback (most recent call last)",
      "\u001B[0;32m/var/folders/mg/hq012ynj3dl3zpl7f24_y5l80000gn/T/ipykernel_40551/1113048268.py\u001B[0m in \u001B[0;36m<module>\u001B[0;34m\u001B[0m\n\u001B[1;32m      1\u001B[0m \u001B[0;31m# Preprocessing\u001B[0m\u001B[0;34m\u001B[0m\u001B[0;34m\u001B[0m\u001B[0m\n\u001B[1;32m      2\u001B[0m \u001B[0;32mimport\u001B[0m \u001B[0mdatetime\u001B[0m\u001B[0;34m\u001B[0m\u001B[0;34m\u001B[0m\u001B[0m\n\u001B[0;32m----> 3\u001B[0;31m \u001B[0my\u001B[0m \u001B[0;34m=\u001B[0m \u001B[0mdf\u001B[0m\u001B[0;34m[\u001B[0m\u001B[0;34m'sample_measurement'\u001B[0m\u001B[0;34m]\u001B[0m\u001B[0;34m\u001B[0m\u001B[0;34m\u001B[0m\u001B[0m\n\u001B[0m\u001B[1;32m      4\u001B[0m \u001B[0my\u001B[0m \u001B[0;34m=\u001B[0m \u001B[0my\u001B[0m\u001B[0;34m.\u001B[0m\u001B[0mto_numpy\u001B[0m\u001B[0;34m(\u001B[0m\u001B[0;34m)\u001B[0m\u001B[0;34m\u001B[0m\u001B[0;34m\u001B[0m\u001B[0m\n\u001B[1;32m      5\u001B[0m \u001B[0mx\u001B[0m \u001B[0;34m=\u001B[0m \u001B[0mdf\u001B[0m\u001B[0;34m.\u001B[0m\u001B[0mdrop\u001B[0m\u001B[0;34m(\u001B[0m\u001B[0;34m[\u001B[0m\u001B[0;34m'sample_measurement'\u001B[0m\u001B[0;34m]\u001B[0m\u001B[0;34m,\u001B[0m \u001B[0maxis\u001B[0m \u001B[0;34m=\u001B[0m \u001B[0;36m1\u001B[0m\u001B[0;34m)\u001B[0m\u001B[0;34m\u001B[0m\u001B[0;34m\u001B[0m\u001B[0m\n",
      "\u001B[0;31mNameError\u001B[0m: name 'df' is not defined"
     ]
    }
   ],
   "source": [
    "# Preprocessing\n",
    "import datetime\n",
    "y = df['sample_measurement']\n",
    "y = y.to_numpy()\n",
    "x = df.drop(['sample_measurement'], axis = 1)\n",
    "del df, df_copy\n",
    "\n",
    "# Feature extraction (see extract_features() in selFeat.py)\n",
    "x['year'] = x['datetime_gmt'].dt.year\n",
    "x['month'] = x['datetime_gmt'].dt.month\n",
    "x['day'] = x['datetime_gmt'].dt.day\n",
    "x['hour'] = x['datetime_gmt'].dt.hour\n",
    "x = x.drop(columns = 'datetime_gmt')\n",
    "\n",
    "# Feature selection\n",
    "from matplotlib import pyplot as plt\n",
    "import seaborn as sns\n",
    "\n",
    "x_corr = x.corr()\n",
    "fig = plt.figure(figsize=(25, 25))\n",
    "fig.patch.set(facecolor = 'white')\n",
    "sns.heatmap(x_corr, ax= plt.subplot(1, 1, 1), annot=True, fmt='.1g', vmin=-1, vmax=1, center=0, cmap='Spectral')\n",
    "x = x.drop(columns = ['mdl', 'year'])\n",
    "x_names = x.columns"
   ],
   "metadata": {
    "collapsed": false,
    "pycharm": {
     "name": "#%%\n"
    }
   }
  },
  {
   "cell_type": "code",
   "execution_count": 9,
   "outputs": [],
   "source": [
    "# Train/Test split (Non-standardized and standardized)\n",
    "from sklearn.model_selection import train_test_split\n",
    "x_train, x_test, y_train, y_test = train_test_split(\n",
    "    x, y, train_size=0.66, random_state=0)\n",
    "\n",
    "# Feature standardization\n",
    "from sklearn import preprocessing\n",
    "stdScalar = preprocessing.StandardScaler().fit(x_train)\n",
    "x_train_std = stdScalar.transform(x_train)\n",
    "x_test_std = stdScalar.transform(x_test)\n",
    "x_train_std = pd.DataFrame(x_train_std, columns=x_names)\n",
    "x_test_std = pd.DataFrame(x_test_std, columns=x_names)"
   ],
   "metadata": {
    "collapsed": false,
    "pycharm": {
     "name": "#%%\n"
    }
   }
  },
  {
   "cell_type": "code",
   "execution_count": 22,
   "outputs": [
    {
     "name": "stdout",
     "output_type": "stream",
     "text": [
      "MAE: 4.972924103384708\n",
      "RMSE: 7.717659594229952\n",
      "MAPE: 787783766159620.2\n",
      "R^2: 0.02350011592727219\n",
      "\n"
     ]
    }
   ],
   "source": [
    "# Linear Regression (Non-Standardized)\n",
    "from sklearn.linear_model import LinearRegression\n",
    "reg1 = LinearRegression().fit(x_train, y_train)\n",
    "yHat = reg1.predict(x_test)\n",
    "from sklearn import metrics\n",
    "print(f'MAE: {metrics.mean_absolute_error(y_test, yHat)}')\n",
    "print(f'RMSE: {metrics.mean_squared_error(y_test, yHat, squared=False)}')\n",
    "print(f'MAPE: {metrics.mean_absolute_percentage_error(y_test, yHat)}')\n",
    "print(f'R^2: {metrics.r2_score(y_test, yHat)}\\n')"
   ],
   "metadata": {
    "collapsed": false,
    "pycharm": {
     "name": "#%%\n"
    }
   }
  },
  {
   "cell_type": "code",
   "execution_count": 10,
   "outputs": [
    {
     "name": "stderr",
     "output_type": "stream",
     "text": [
      "/opt/homebrew/lib/python3.9/site-packages/sklearn/linear_model/_ridge.py:156: LinAlgWarning: Ill-conditioned matrix (rcond=1.11348e-19): result may not be accurate.\n",
      "  return linalg.solve(A, Xy, sym_pos=True, overwrite_a=True).T\n",
      "/opt/homebrew/lib/python3.9/site-packages/sklearn/linear_model/_ridge.py:156: LinAlgWarning: Ill-conditioned matrix (rcond=1.12809e-19): result may not be accurate.\n",
      "  return linalg.solve(A, Xy, sym_pos=True, overwrite_a=True).T\n",
      "/opt/homebrew/lib/python3.9/site-packages/sklearn/linear_model/_ridge.py:156: LinAlgWarning: Ill-conditioned matrix (rcond=1.11666e-19): result may not be accurate.\n",
      "  return linalg.solve(A, Xy, sym_pos=True, overwrite_a=True).T\n",
      "/opt/homebrew/lib/python3.9/site-packages/sklearn/linear_model/_ridge.py:156: LinAlgWarning: Ill-conditioned matrix (rcond=1.11781e-19): result may not be accurate.\n",
      "  return linalg.solve(A, Xy, sym_pos=True, overwrite_a=True).T\n",
      "/opt/homebrew/lib/python3.9/site-packages/sklearn/linear_model/_ridge.py:156: LinAlgWarning: Ill-conditioned matrix (rcond=1.12396e-19): result may not be accurate.\n",
      "  return linalg.solve(A, Xy, sym_pos=True, overwrite_a=True).T\n",
      "/opt/homebrew/lib/python3.9/site-packages/sklearn/linear_model/_ridge.py:156: LinAlgWarning: Ill-conditioned matrix (rcond=5.56741e-19): result may not be accurate.\n",
      "  return linalg.solve(A, Xy, sym_pos=True, overwrite_a=True).T\n",
      "/opt/homebrew/lib/python3.9/site-packages/sklearn/linear_model/_ridge.py:156: LinAlgWarning: Ill-conditioned matrix (rcond=5.64047e-19): result may not be accurate.\n",
      "  return linalg.solve(A, Xy, sym_pos=True, overwrite_a=True).T\n",
      "/opt/homebrew/lib/python3.9/site-packages/sklearn/linear_model/_ridge.py:156: LinAlgWarning: Ill-conditioned matrix (rcond=5.5833e-19): result may not be accurate.\n",
      "  return linalg.solve(A, Xy, sym_pos=True, overwrite_a=True).T\n",
      "/opt/homebrew/lib/python3.9/site-packages/sklearn/linear_model/_ridge.py:156: LinAlgWarning: Ill-conditioned matrix (rcond=5.58903e-19): result may not be accurate.\n",
      "  return linalg.solve(A, Xy, sym_pos=True, overwrite_a=True).T\n",
      "/opt/homebrew/lib/python3.9/site-packages/sklearn/linear_model/_ridge.py:156: LinAlgWarning: Ill-conditioned matrix (rcond=5.61982e-19): result may not be accurate.\n",
      "  return linalg.solve(A, Xy, sym_pos=True, overwrite_a=True).T\n",
      "/opt/homebrew/lib/python3.9/site-packages/sklearn/linear_model/_ridge.py:156: LinAlgWarning: Ill-conditioned matrix (rcond=1.11348e-18): result may not be accurate.\n",
      "  return linalg.solve(A, Xy, sym_pos=True, overwrite_a=True).T\n",
      "/opt/homebrew/lib/python3.9/site-packages/sklearn/linear_model/_ridge.py:156: LinAlgWarning: Ill-conditioned matrix (rcond=1.12809e-18): result may not be accurate.\n",
      "  return linalg.solve(A, Xy, sym_pos=True, overwrite_a=True).T\n",
      "/opt/homebrew/lib/python3.9/site-packages/sklearn/linear_model/_ridge.py:156: LinAlgWarning: Ill-conditioned matrix (rcond=1.11666e-18): result may not be accurate.\n",
      "  return linalg.solve(A, Xy, sym_pos=True, overwrite_a=True).T\n",
      "/opt/homebrew/lib/python3.9/site-packages/sklearn/linear_model/_ridge.py:156: LinAlgWarning: Ill-conditioned matrix (rcond=1.11781e-18): result may not be accurate.\n",
      "  return linalg.solve(A, Xy, sym_pos=True, overwrite_a=True).T\n",
      "/opt/homebrew/lib/python3.9/site-packages/sklearn/linear_model/_ridge.py:156: LinAlgWarning: Ill-conditioned matrix (rcond=1.12396e-18): result may not be accurate.\n",
      "  return linalg.solve(A, Xy, sym_pos=True, overwrite_a=True).T\n",
      "/opt/homebrew/lib/python3.9/site-packages/sklearn/linear_model/_ridge.py:156: LinAlgWarning: Ill-conditioned matrix (rcond=5.56742e-18): result may not be accurate.\n",
      "  return linalg.solve(A, Xy, sym_pos=True, overwrite_a=True).T\n",
      "/opt/homebrew/lib/python3.9/site-packages/sklearn/linear_model/_ridge.py:156: LinAlgWarning: Ill-conditioned matrix (rcond=5.64048e-18): result may not be accurate.\n",
      "  return linalg.solve(A, Xy, sym_pos=True, overwrite_a=True).T\n",
      "/opt/homebrew/lib/python3.9/site-packages/sklearn/linear_model/_ridge.py:156: LinAlgWarning: Ill-conditioned matrix (rcond=5.58331e-18): result may not be accurate.\n",
      "  return linalg.solve(A, Xy, sym_pos=True, overwrite_a=True).T\n",
      "/opt/homebrew/lib/python3.9/site-packages/sklearn/linear_model/_ridge.py:156: LinAlgWarning: Ill-conditioned matrix (rcond=5.58904e-18): result may not be accurate.\n",
      "  return linalg.solve(A, Xy, sym_pos=True, overwrite_a=True).T\n"
     ]
    },
    {
     "name": "stdout",
     "output_type": "stream",
     "text": [
      "MAE: 5.780344439784368\n",
      "RMSE: 8.331700858502982\n",
      "MAPE: 944810862565511.5\n",
      "R^2: 0.265997984386116\n",
      "\n"
     ]
    },
    {
     "name": "stderr",
     "output_type": "stream",
     "text": [
      "/opt/homebrew/lib/python3.9/site-packages/sklearn/linear_model/_ridge.py:156: LinAlgWarning: Ill-conditioned matrix (rcond=5.61983e-18): result may not be accurate.\n",
      "  return linalg.solve(A, Xy, sym_pos=True, overwrite_a=True).T\n",
      "/opt/homebrew/lib/python3.9/site-packages/sklearn/linear_model/_ridge.py:156: LinAlgWarning: Ill-conditioned matrix (rcond=1.11349e-17): result may not be accurate.\n",
      "  return linalg.solve(A, Xy, sym_pos=True, overwrite_a=True).T\n",
      "/opt/homebrew/lib/python3.9/site-packages/sklearn/linear_model/_ridge.py:156: LinAlgWarning: Ill-conditioned matrix (rcond=1.1281e-17): result may not be accurate.\n",
      "  return linalg.solve(A, Xy, sym_pos=True, overwrite_a=True).T\n",
      "/opt/homebrew/lib/python3.9/site-packages/sklearn/linear_model/_ridge.py:156: LinAlgWarning: Ill-conditioned matrix (rcond=1.11666e-17): result may not be accurate.\n",
      "  return linalg.solve(A, Xy, sym_pos=True, overwrite_a=True).T\n",
      "/opt/homebrew/lib/python3.9/site-packages/sklearn/linear_model/_ridge.py:156: LinAlgWarning: Ill-conditioned matrix (rcond=1.11781e-17): result may not be accurate.\n",
      "  return linalg.solve(A, Xy, sym_pos=True, overwrite_a=True).T\n",
      "/opt/homebrew/lib/python3.9/site-packages/sklearn/linear_model/_ridge.py:156: LinAlgWarning: Ill-conditioned matrix (rcond=1.12397e-17): result may not be accurate.\n",
      "  return linalg.solve(A, Xy, sym_pos=True, overwrite_a=True).T\n",
      "/opt/homebrew/lib/python3.9/site-packages/sklearn/linear_model/_ridge.py:156: LinAlgWarning: Ill-conditioned matrix (rcond=4.4799e-18): result may not be accurate.\n",
      "  return linalg.solve(A, Xy, sym_pos=True, overwrite_a=True).T\n"
     ]
    }
   ],
   "source": [
    "# Linear Regression with Ridge Regularization (Non-Standardized)\n",
    "from sklearn.linear_model import RidgeCV\n",
    "reg2 = RidgeCV(alphas = [0.1, 0.5, 1, 5, 10], cv = 5, scoring = 'r2').fit(x_train, y_train)\n",
    "yHat = reg2.predict(x_test)\n",
    "from sklearn import metrics\n",
    "print(f'MAE: {metrics.mean_absolute_error(y_test, yHat)}')\n",
    "print(f'RMSE: {metrics.mean_squared_error(y_test, yHat, squared=False)}')\n",
    "print(f'MAPE: {metrics.mean_absolute_percentage_error(y_test, yHat)}')\n",
    "print(f'R^2: {metrics.r2_score(y_test, yHat)}\\n')"
   ],
   "metadata": {
    "collapsed": false,
    "pycharm": {
     "name": "#%%\n"
    }
   }
  },
  {
   "cell_type": "code",
   "execution_count": 4,
   "outputs": [
    {
     "name": "stdout",
     "output_type": "stream",
     "text": [
      "MAE: 6.53253403998054\n",
      "RMSE: 10.158554020600352\n",
      "MAPE: 1008275811339676.1\n",
      "R^2: -0.0911732331472137\n",
      "\n"
     ]
    }
   ],
   "source": [
    "# Support Vector Regression Non-CV (Non-Standardized)\n",
    "from sklearn.svm import SVR\n",
    "svrModel = SVR(kernel = 'rbf', epsilon = 0.2)\n",
    "svrModel.fit(x_train, y_train)\n",
    "yHat = svrModel.predict(x_test)\n",
    "\n",
    "from sklearn import metrics\n",
    "print(f'MAE: {metrics.mean_absolute_error(y_test, yHat)}')\n",
    "print(f'RMSE: {metrics.mean_squared_error(y_test, yHat, squared=False)}')\n",
    "print(f'MAPE: {metrics.mean_absolute_percentage_error(y_test, yHat)}')\n",
    "print(f'R^2: {metrics.r2_score(y_test, yHat)}\\n')"
   ],
   "metadata": {
    "collapsed": false,
    "pycharm": {
     "name": "#%%\n"
    }
   }
  },
  {
   "cell_type": "code",
   "execution_count": null,
   "outputs": [],
   "source": [
    "# Support Vector Regression CV (Non-Standardized)\n",
    "from sklearn.svm import SVR\n",
    "from sklearn.model_selection import GridSearchCV\n",
    "cvSVR = GridSearchCV(SVR(), [{'kernel': ['linear', 'poly', 'rbf', 'sigmoid'], 'epsilon': [0.1, 0.2, 0.3]}], cv=5, scoring='neg_mean_squared_error')\n",
    "cvSVR.fit(x_train, y_train)\n",
    "yHat = cvSVR.predict(x_test)\n",
    "\n",
    "from sklearn import metrics\n",
    "print(f'MAE: {metrics.mean_absolute_error(y_test, yHat)}')\n",
    "print(f'RMSE: {metrics.mean_squared_error(y_test, yHat, squared=False)}')\n",
    "print(f'MAPE: {metrics.mean_absolute_percentage_error(y_test, yHat)}')\n",
    "print(f'R^2: {metrics.r2_score(y_test, yHat)}\\n')"
   ],
   "metadata": {
    "collapsed": false,
    "pycharm": {
     "name": "#%%\n",
     "is_executing": true
    }
   }
  },
  {
   "cell_type": "code",
   "execution_count": 24,
   "outputs": [
    {
     "name": "stdout",
     "output_type": "stream",
     "text": [
      "MAE: 4.972924103384705\n",
      "RMSE: 7.717659594229951\n",
      "MAPE: 787783766159626.2\n",
      "R^2: 0.023500115927272525\n",
      "\n"
     ]
    }
   ],
   "source": [
    "# Linear Regression (Standardized)\n",
    "from sklearn.linear_model import LinearRegression\n",
    "reg3 = LinearRegression().fit(x_train_std, y_train)\n",
    "yHat = reg3.predict(x_test_std)\n",
    "from sklearn import metrics\n",
    "print(f'MAE: {metrics.mean_absolute_error(y_test, yHat)}')\n",
    "print(f'RMSE: {metrics.mean_squared_error(y_test, yHat, squared=False)}')\n",
    "print(f'MAPE: {metrics.mean_absolute_percentage_error(y_test, yHat)}')\n",
    "print(f'R^2: {metrics.r2_score(y_test, yHat)}\\n')"
   ],
   "metadata": {
    "collapsed": false,
    "pycharm": {
     "name": "#%%\n"
    }
   }
  },
  {
   "cell_type": "code",
   "execution_count": null,
   "outputs": [],
   "source": [
    "# Linear Regression with Ridge Regularization (Standardized)\n",
    "from sklearn.linear_model import RidgeCV\n",
    "reg4 = RidgeCV(alphas = [0.1, 0.5, 1, 5, 10], cv = 5, scoring = 'r2').fit(x_train_std, y_train)\n",
    "yHat = reg4.predict(x_test_std)\n",
    "from sklearn import metrics\n",
    "print(f'MAE: {metrics.mean_absolute_error(y_test, yHat)}')\n",
    "print(f'RMSE: {metrics.mean_squared_error(y_test, yHat, squared=False)}')\n",
    "print(f'MAPE: {metrics.mean_absolute_percentage_error(y_test, yHat)}')\n",
    "print(f'R^2: {metrics.r2_score(y_test, yHat)}\\n')\n"
   ],
   "metadata": {
    "collapsed": false,
    "pycharm": {
     "name": "#%%\n"
    }
   }
  },
  {
   "cell_type": "code",
   "execution_count": 5,
   "outputs": [
    {
     "name": "stdout",
     "output_type": "stream",
     "text": [
      "MAE: 12.698538085344932\n",
      "RMSE: 14.131632202918965\n",
      "MAPE: 2888612023939762.0\n",
      "R^2: -1.111614165332106\n",
      "\n"
     ]
    }
   ],
   "source": [
    "# Support Vector Regression Non-CV (Standardized)\n",
    "from sklearn.svm import SVR\n",
    "svrModel = SVR(kernel = 'rbf', epsilon = 0.2)\n",
    "svrModel.fit(x_train_std, y_train)\n",
    "yHat = svrModel.predict(x_test)\n",
    "\n",
    "from sklearn import metrics\n",
    "print(f'MAE: {metrics.mean_absolute_error(y_test, yHat)}')\n",
    "print(f'RMSE: {metrics.mean_squared_error(y_test, yHat, squared=False)}')\n",
    "print(f'MAPE: {metrics.mean_absolute_percentage_error(y_test, yHat)}')\n",
    "print(f'R^2: {metrics.r2_score(y_test, yHat)}\\n')"
   ],
   "metadata": {
    "collapsed": false,
    "pycharm": {
     "name": "#%%\n"
    }
   }
  },
  {
   "cell_type": "code",
   "execution_count": null,
   "outputs": [],
   "source": [
    "# Support Vector Regression CV (Standardized)\n",
    "from sklearn.svm import SVR\n",
    "from sklearn.model_selection import GridSearchCV\n",
    "cvSVR = GridSearchCV(SVR(), [{'kernel': ['linear', 'poly', 'rbf', 'sigmoid'], 'epsilon': [0.1, 0.2, 0.3]}], cv=5, scoring='neg_mean_squared_error')\n",
    "cvSVR.fit(x_train_std, y_train)\n",
    "yHat = cvSVR.predict(x_test)\n",
    "\n",
    "from sklearn import metrics\n",
    "print(f'MAE: {metrics.mean_absolute_error(y_test, yHat)}')\n",
    "print(f'RMSE: {metrics.mean_squared_error(y_test, yHat, squared=False)}')\n",
    "print(f'MAPE: {metrics.mean_absolute_percentage_error(y_test, yHat)}')\n",
    "print(f'R^2: {metrics.r2_score(y_test, yHat)}\\n')"
   ],
   "metadata": {
    "collapsed": false,
    "pycharm": {
     "name": "#%%\n",
     "is_executing": true
    }
   }
  },
  {
   "cell_type": "code",
   "execution_count": 28,
   "outputs": [],
   "source": [
    "# Cross Validation\n",
    "from sklearn.model_selection import GridSearchCV\n",
    "# GridSearchCV\n",
    "# RepeatedKFold\n",
    "# cross_validate\n",
    "# cross_val_score"
   ],
   "metadata": {
    "collapsed": false,
    "pycharm": {
     "name": "#%%\n"
    }
   }
  },
  {
   "cell_type": "code",
   "execution_count": 28,
   "outputs": [],
   "source": [],
   "metadata": {
    "collapsed": false,
    "pycharm": {
     "name": "#%%\n"
    }
   }
  }
 ],
 "metadata": {
  "kernelspec": {
   "name": "python397jvsc74a57bd0b0fa6594d8f4cbf19f97940f81e996739fb7646882a419484c72d19e05852a7e",
   "language": "python",
   "display_name": "Python 3.9.7 64-bit"
  },
  "language_info": {
   "codemirror_mode": {
    "name": "ipython",
    "version": 2
   },
   "file_extension": ".py",
   "mimetype": "text/x-python",
   "name": "python",
   "nbconvert_exporter": "python",
   "pygments_lexer": "ipython2",
   "version": "2.7.6"
  }
 },
 "nbformat": 4,
 "nbformat_minor": 0
}