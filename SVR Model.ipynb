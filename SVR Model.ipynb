{
 "cells": [
  {
   "cell_type": "markdown",
   "id": "084d0529",
   "metadata": {},
   "source": [
    "### Dependencies"
   ]
  },
  {
   "cell_type": "code",
   "execution_count": 100,
   "id": "008ed664",
   "metadata": {},
   "outputs": [],
   "source": [
    "import numpy as np\n",
    "import pandas as pd\n",
    "from datetime import datetime\n",
    "from sklearn.model_selection import train_test_split\n",
    "from sklearn.svm import SVR\n",
    "# from sklearn.pipeline import make_pipeline\n",
    "from sklearn.preprocessing import StandardScaler\n",
    "from sklearn.model_selection import GridSearchCV\n",
    "from sklearn import metrics\n",
    "import matplotlib.pyplot as plt"
   ]
  },
  {
   "cell_type": "markdown",
   "id": "260609ab",
   "metadata": {},
   "source": [
    "### Import Data"
   ]
  },
  {
   "cell_type": "code",
   "execution_count": 48,
   "id": "f2c91eb6",
   "metadata": {
    "scrolled": false
   },
   "outputs": [
    {
     "data": {
      "text/html": [
       "<div>\n",
       "<style scoped>\n",
       "    .dataframe tbody tr th:only-of-type {\n",
       "        vertical-align: middle;\n",
       "    }\n",
       "\n",
       "    .dataframe tbody tr th {\n",
       "        vertical-align: top;\n",
       "    }\n",
       "\n",
       "    .dataframe thead th {\n",
       "        text-align: right;\n",
       "    }\n",
       "</style>\n",
       "<table border=\"1\" class=\"dataframe\">\n",
       "  <thead>\n",
       "    <tr style=\"text-align: right;\">\n",
       "      <th></th>\n",
       "      <th>datetime_gmt</th>\n",
       "      <th>state_code</th>\n",
       "      <th>county_code</th>\n",
       "      <th>site_num</th>\n",
       "      <th>poc</th>\n",
       "      <th>latitude_rounded</th>\n",
       "      <th>longitude_rounded</th>\n",
       "      <th>sample_measurement</th>\n",
       "      <th>mdl</th>\n",
       "      <th>method_code</th>\n",
       "    </tr>\n",
       "  </thead>\n",
       "  <tbody>\n",
       "    <tr>\n",
       "      <th>0</th>\n",
       "      <td>2008-03-15 23:00:00</td>\n",
       "      <td>15</td>\n",
       "      <td>1</td>\n",
       "      <td>1012</td>\n",
       "      <td>1</td>\n",
       "      <td>19.510</td>\n",
       "      <td>-155.913</td>\n",
       "      <td>27.0</td>\n",
       "      <td>5</td>\n",
       "      <td>170</td>\n",
       "    </tr>\n",
       "    <tr>\n",
       "      <th>1</th>\n",
       "      <td>2008-03-15 13:00:00</td>\n",
       "      <td>15</td>\n",
       "      <td>1</td>\n",
       "      <td>1012</td>\n",
       "      <td>1</td>\n",
       "      <td>19.510</td>\n",
       "      <td>-155.913</td>\n",
       "      <td>14.0</td>\n",
       "      <td>5</td>\n",
       "      <td>170</td>\n",
       "    </tr>\n",
       "    <tr>\n",
       "      <th>2</th>\n",
       "      <td>2008-03-15 12:00:00</td>\n",
       "      <td>15</td>\n",
       "      <td>1</td>\n",
       "      <td>1012</td>\n",
       "      <td>1</td>\n",
       "      <td>19.510</td>\n",
       "      <td>-155.913</td>\n",
       "      <td>14.0</td>\n",
       "      <td>5</td>\n",
       "      <td>170</td>\n",
       "    </tr>\n",
       "    <tr>\n",
       "      <th>3</th>\n",
       "      <td>2008-03-15 15:00:00</td>\n",
       "      <td>15</td>\n",
       "      <td>1</td>\n",
       "      <td>1012</td>\n",
       "      <td>1</td>\n",
       "      <td>19.510</td>\n",
       "      <td>-155.913</td>\n",
       "      <td>19.0</td>\n",
       "      <td>5</td>\n",
       "      <td>170</td>\n",
       "    </tr>\n",
       "    <tr>\n",
       "      <th>4</th>\n",
       "      <td>2008-03-15 16:00:00</td>\n",
       "      <td>15</td>\n",
       "      <td>1</td>\n",
       "      <td>1012</td>\n",
       "      <td>1</td>\n",
       "      <td>19.510</td>\n",
       "      <td>-155.913</td>\n",
       "      <td>14.0</td>\n",
       "      <td>5</td>\n",
       "      <td>170</td>\n",
       "    </tr>\n",
       "    <tr>\n",
       "      <th>...</th>\n",
       "      <td>...</td>\n",
       "      <td>...</td>\n",
       "      <td>...</td>\n",
       "      <td>...</td>\n",
       "      <td>...</td>\n",
       "      <td>...</td>\n",
       "      <td>...</td>\n",
       "      <td>...</td>\n",
       "      <td>...</td>\n",
       "      <td>...</td>\n",
       "    </tr>\n",
       "    <tr>\n",
       "      <th>249995</th>\n",
       "      <td>2009-06-12 11:00:00</td>\n",
       "      <td>49</td>\n",
       "      <td>53</td>\n",
       "      <td>130</td>\n",
       "      <td>1</td>\n",
       "      <td>37.198</td>\n",
       "      <td>-113.151</td>\n",
       "      <td>4.6</td>\n",
       "      <td>5</td>\n",
       "      <td>170</td>\n",
       "    </tr>\n",
       "    <tr>\n",
       "      <th>249996</th>\n",
       "      <td>2009-06-12 14:00:00</td>\n",
       "      <td>6</td>\n",
       "      <td>65</td>\n",
       "      <td>8001</td>\n",
       "      <td>3</td>\n",
       "      <td>34.000</td>\n",
       "      <td>-117.416</td>\n",
       "      <td>13.0</td>\n",
       "      <td>5</td>\n",
       "      <td>170</td>\n",
       "    </tr>\n",
       "    <tr>\n",
       "      <th>249997</th>\n",
       "      <td>2009-06-12 08:00:00</td>\n",
       "      <td>6</td>\n",
       "      <td>65</td>\n",
       "      <td>8005</td>\n",
       "      <td>3</td>\n",
       "      <td>33.996</td>\n",
       "      <td>-117.492</td>\n",
       "      <td>12.0</td>\n",
       "      <td>5</td>\n",
       "      <td>170</td>\n",
       "    </tr>\n",
       "    <tr>\n",
       "      <th>249998</th>\n",
       "      <td>2009-06-12 21:00:00</td>\n",
       "      <td>30</td>\n",
       "      <td>63</td>\n",
       "      <td>24</td>\n",
       "      <td>3</td>\n",
       "      <td>46.842</td>\n",
       "      <td>-114.021</td>\n",
       "      <td>7.7</td>\n",
       "      <td>5</td>\n",
       "      <td>170</td>\n",
       "    </tr>\n",
       "    <tr>\n",
       "      <th>249999</th>\n",
       "      <td>2009-06-12 08:00:00</td>\n",
       "      <td>15</td>\n",
       "      <td>3</td>\n",
       "      <td>1004</td>\n",
       "      <td>2</td>\n",
       "      <td>21.303</td>\n",
       "      <td>-157.871</td>\n",
       "      <td>9.0</td>\n",
       "      <td>5</td>\n",
       "      <td>170</td>\n",
       "    </tr>\n",
       "  </tbody>\n",
       "</table>\n",
       "<p>250000 rows × 10 columns</p>\n",
       "</div>"
      ],
      "text/plain": [
       "              datetime_gmt  state_code  county_code  site_num  poc  \\\n",
       "0      2008-03-15 23:00:00          15            1      1012    1   \n",
       "1      2008-03-15 13:00:00          15            1      1012    1   \n",
       "2      2008-03-15 12:00:00          15            1      1012    1   \n",
       "3      2008-03-15 15:00:00          15            1      1012    1   \n",
       "4      2008-03-15 16:00:00          15            1      1012    1   \n",
       "...                    ...         ...          ...       ...  ...   \n",
       "249995 2009-06-12 11:00:00          49           53       130    1   \n",
       "249996 2009-06-12 14:00:00           6           65      8001    3   \n",
       "249997 2009-06-12 08:00:00           6           65      8005    3   \n",
       "249998 2009-06-12 21:00:00          30           63        24    3   \n",
       "249999 2009-06-12 08:00:00          15            3      1004    2   \n",
       "\n",
       "        latitude_rounded  longitude_rounded  sample_measurement  mdl  \\\n",
       "0                 19.510           -155.913                27.0    5   \n",
       "1                 19.510           -155.913                14.0    5   \n",
       "2                 19.510           -155.913                14.0    5   \n",
       "3                 19.510           -155.913                19.0    5   \n",
       "4                 19.510           -155.913                14.0    5   \n",
       "...                  ...                ...                 ...  ...   \n",
       "249995            37.198           -113.151                 4.6    5   \n",
       "249996            34.000           -117.416                13.0    5   \n",
       "249997            33.996           -117.492                12.0    5   \n",
       "249998            46.842           -114.021                 7.7    5   \n",
       "249999            21.303           -157.871                 9.0    5   \n",
       "\n",
       "        method_code  \n",
       "0               170  \n",
       "1               170  \n",
       "2               170  \n",
       "3               170  \n",
       "4               170  \n",
       "...             ...  \n",
       "249995          170  \n",
       "249996          170  \n",
       "249997          170  \n",
       "249998          170  \n",
       "249999          170  \n",
       "\n",
       "[250000 rows x 10 columns]"
      ]
     },
     "execution_count": 48,
     "metadata": {},
     "output_type": "execute_result"
    }
   ],
   "source": [
    "# Small sample data\n",
    "dateparse = lambda x1: datetime.strptime(x1, '%Y-%m-%d %H:%M')\n",
    "df = pd.read_csv('pm25_small.csv', parse_dates = {'datetime_gmt': ['date_gmt', 'time_gmt']}, date_parser = dateparse)\n",
    "df"
   ]
  },
  {
   "cell_type": "code",
   "execution_count": 49,
   "id": "3ea5acfd",
   "metadata": {},
   "outputs": [],
   "source": [
    "# Small sample data: labels\n",
    "labels = df['sample_measurement'][:1000]"
   ]
  },
  {
   "cell_type": "code",
   "execution_count": 50,
   "id": "3e829f30",
   "metadata": {},
   "outputs": [],
   "source": [
    "# Small sample data: datas\n",
    "df_copy = df.copy()\n",
    "series_copy = df_copy.apply(lambda x1: x1['datetime_gmt'].timestamp(), axis=1)\n",
    "df['datetime_gmt'] = series_copy\n",
    "del df_copy, series_copy"
   ]
  },
  {
   "cell_type": "code",
   "execution_count": 51,
   "id": "74cc1c21",
   "metadata": {},
   "outputs": [],
   "source": [
    "datas = df.drop(['sample_measurement'], axis=1)"
   ]
  },
  {
   "cell_type": "code",
   "execution_count": 52,
   "id": "85ecf978",
   "metadata": {},
   "outputs": [],
   "source": [
    "datas = datas[:1000]"
   ]
  },
  {
   "cell_type": "code",
   "execution_count": null,
   "id": "d8f78633",
   "metadata": {},
   "outputs": [],
   "source": []
  },
  {
   "cell_type": "code",
   "execution_count": 53,
   "id": "3175b239",
   "metadata": {},
   "outputs": [],
   "source": [
    "# Full data\n",
    "# All 30 mil data here"
   ]
  },
  {
   "cell_type": "code",
   "execution_count": 54,
   "id": "2470f58d",
   "metadata": {},
   "outputs": [],
   "source": [
    "# Testing out stuff\n",
    "# df['sample_measurement'][:1000]\n",
    "# datas"
   ]
  },
  {
   "cell_type": "markdown",
   "id": "88b97849",
   "metadata": {},
   "source": [
    "### Preprocess data"
   ]
  },
  {
   "cell_type": "code",
   "execution_count": 55,
   "id": "51080b01",
   "metadata": {},
   "outputs": [
    {
     "data": {
      "text/html": [
       "<div>\n",
       "<style scoped>\n",
       "    .dataframe tbody tr th:only-of-type {\n",
       "        vertical-align: middle;\n",
       "    }\n",
       "\n",
       "    .dataframe tbody tr th {\n",
       "        vertical-align: top;\n",
       "    }\n",
       "\n",
       "    .dataframe thead th {\n",
       "        text-align: right;\n",
       "    }\n",
       "</style>\n",
       "<table border=\"1\" class=\"dataframe\">\n",
       "  <thead>\n",
       "    <tr style=\"text-align: right;\">\n",
       "      <th></th>\n",
       "      <th>datetime_gmt</th>\n",
       "      <th>state_code</th>\n",
       "      <th>county_code</th>\n",
       "      <th>site_num</th>\n",
       "      <th>poc</th>\n",
       "      <th>latitude_rounded</th>\n",
       "      <th>longitude_rounded</th>\n",
       "      <th>mdl</th>\n",
       "      <th>method_code</th>\n",
       "    </tr>\n",
       "  </thead>\n",
       "  <tbody>\n",
       "    <tr>\n",
       "      <th>0</th>\n",
       "      <td>1.205622e+09</td>\n",
       "      <td>15</td>\n",
       "      <td>1</td>\n",
       "      <td>1012</td>\n",
       "      <td>1</td>\n",
       "      <td>19.510</td>\n",
       "      <td>-155.913</td>\n",
       "      <td>5</td>\n",
       "      <td>170</td>\n",
       "    </tr>\n",
       "    <tr>\n",
       "      <th>1</th>\n",
       "      <td>1.205586e+09</td>\n",
       "      <td>15</td>\n",
       "      <td>1</td>\n",
       "      <td>1012</td>\n",
       "      <td>1</td>\n",
       "      <td>19.510</td>\n",
       "      <td>-155.913</td>\n",
       "      <td>5</td>\n",
       "      <td>170</td>\n",
       "    </tr>\n",
       "    <tr>\n",
       "      <th>2</th>\n",
       "      <td>1.205582e+09</td>\n",
       "      <td>15</td>\n",
       "      <td>1</td>\n",
       "      <td>1012</td>\n",
       "      <td>1</td>\n",
       "      <td>19.510</td>\n",
       "      <td>-155.913</td>\n",
       "      <td>5</td>\n",
       "      <td>170</td>\n",
       "    </tr>\n",
       "    <tr>\n",
       "      <th>3</th>\n",
       "      <td>1.205593e+09</td>\n",
       "      <td>15</td>\n",
       "      <td>1</td>\n",
       "      <td>1012</td>\n",
       "      <td>1</td>\n",
       "      <td>19.510</td>\n",
       "      <td>-155.913</td>\n",
       "      <td>5</td>\n",
       "      <td>170</td>\n",
       "    </tr>\n",
       "    <tr>\n",
       "      <th>4</th>\n",
       "      <td>1.205597e+09</td>\n",
       "      <td>15</td>\n",
       "      <td>1</td>\n",
       "      <td>1012</td>\n",
       "      <td>1</td>\n",
       "      <td>19.510</td>\n",
       "      <td>-155.913</td>\n",
       "      <td>5</td>\n",
       "      <td>170</td>\n",
       "    </tr>\n",
       "    <tr>\n",
       "      <th>...</th>\n",
       "      <td>...</td>\n",
       "      <td>...</td>\n",
       "      <td>...</td>\n",
       "      <td>...</td>\n",
       "      <td>...</td>\n",
       "      <td>...</td>\n",
       "      <td>...</td>\n",
       "      <td>...</td>\n",
       "      <td>...</td>\n",
       "    </tr>\n",
       "    <tr>\n",
       "      <th>995</th>\n",
       "      <td>1.209182e+09</td>\n",
       "      <td>15</td>\n",
       "      <td>1</td>\n",
       "      <td>2016</td>\n",
       "      <td>1</td>\n",
       "      <td>19.204</td>\n",
       "      <td>-155.480</td>\n",
       "      <td>5</td>\n",
       "      <td>170</td>\n",
       "    </tr>\n",
       "    <tr>\n",
       "      <th>996</th>\n",
       "      <td>1.209251e+09</td>\n",
       "      <td>15</td>\n",
       "      <td>1</td>\n",
       "      <td>2016</td>\n",
       "      <td>1</td>\n",
       "      <td>19.204</td>\n",
       "      <td>-155.480</td>\n",
       "      <td>5</td>\n",
       "      <td>170</td>\n",
       "    </tr>\n",
       "    <tr>\n",
       "      <th>997</th>\n",
       "      <td>1.209190e+09</td>\n",
       "      <td>15</td>\n",
       "      <td>1</td>\n",
       "      <td>2017</td>\n",
       "      <td>1</td>\n",
       "      <td>19.570</td>\n",
       "      <td>-155.081</td>\n",
       "      <td>5</td>\n",
       "      <td>170</td>\n",
       "    </tr>\n",
       "    <tr>\n",
       "      <th>998</th>\n",
       "      <td>1.209215e+09</td>\n",
       "      <td>15</td>\n",
       "      <td>1</td>\n",
       "      <td>2017</td>\n",
       "      <td>1</td>\n",
       "      <td>19.570</td>\n",
       "      <td>-155.081</td>\n",
       "      <td>5</td>\n",
       "      <td>170</td>\n",
       "    </tr>\n",
       "    <tr>\n",
       "      <th>999</th>\n",
       "      <td>1.209211e+09</td>\n",
       "      <td>15</td>\n",
       "      <td>1</td>\n",
       "      <td>2017</td>\n",
       "      <td>1</td>\n",
       "      <td>19.570</td>\n",
       "      <td>-155.081</td>\n",
       "      <td>5</td>\n",
       "      <td>170</td>\n",
       "    </tr>\n",
       "  </tbody>\n",
       "</table>\n",
       "<p>1000 rows × 9 columns</p>\n",
       "</div>"
      ],
      "text/plain": [
       "     datetime_gmt  state_code  county_code  site_num  poc  latitude_rounded  \\\n",
       "0    1.205622e+09          15            1      1012    1            19.510   \n",
       "1    1.205586e+09          15            1      1012    1            19.510   \n",
       "2    1.205582e+09          15            1      1012    1            19.510   \n",
       "3    1.205593e+09          15            1      1012    1            19.510   \n",
       "4    1.205597e+09          15            1      1012    1            19.510   \n",
       "..            ...         ...          ...       ...  ...               ...   \n",
       "995  1.209182e+09          15            1      2016    1            19.204   \n",
       "996  1.209251e+09          15            1      2016    1            19.204   \n",
       "997  1.209190e+09          15            1      2017    1            19.570   \n",
       "998  1.209215e+09          15            1      2017    1            19.570   \n",
       "999  1.209211e+09          15            1      2017    1            19.570   \n",
       "\n",
       "     longitude_rounded  mdl  method_code  \n",
       "0             -155.913    5          170  \n",
       "1             -155.913    5          170  \n",
       "2             -155.913    5          170  \n",
       "3             -155.913    5          170  \n",
       "4             -155.913    5          170  \n",
       "..                 ...  ...          ...  \n",
       "995           -155.480    5          170  \n",
       "996           -155.480    5          170  \n",
       "997           -155.081    5          170  \n",
       "998           -155.081    5          170  \n",
       "999           -155.081    5          170  \n",
       "\n",
       "[1000 rows x 9 columns]"
      ]
     },
     "execution_count": 55,
     "metadata": {},
     "output_type": "execute_result"
    }
   ],
   "source": [
    "datas"
   ]
  },
  {
   "cell_type": "code",
   "execution_count": 58,
   "id": "d398f0a8",
   "metadata": {},
   "outputs": [],
   "source": [
    "# Scale\n",
    "datas_std = StandardScaler().fit_transform(datas)"
   ]
  },
  {
   "cell_type": "code",
   "execution_count": 59,
   "id": "a48f841d",
   "metadata": {},
   "outputs": [
    {
     "data": {
      "text/plain": [
       "array([[-1.68522481,  0.        ,  0.        , ..., -0.85076974,\n",
       "         0.        ,  0.        ],\n",
       "       [-1.71677854,  0.        ,  0.        , ..., -0.85076974,\n",
       "         0.        ,  0.        ],\n",
       "       [-1.71993391,  0.        ,  0.        , ..., -0.85076974,\n",
       "         0.        ,  0.        ],\n",
       "       ...,\n",
       "       [ 1.44174991,  0.        ,  0.        , ...,  1.58152112,\n",
       "         0.        ,  0.        ],\n",
       "       [ 1.46383752,  0.        ,  0.        , ...,  1.58152112,\n",
       "         0.        ,  0.        ],\n",
       "       [ 1.46068215,  0.        ,  0.        , ...,  1.58152112,\n",
       "         0.        ,  0.        ]])"
      ]
     },
     "execution_count": 59,
     "metadata": {},
     "output_type": "execute_result"
    }
   ],
   "source": [
    "datas_std"
   ]
  },
  {
   "cell_type": "code",
   "execution_count": 60,
   "id": "db366abf",
   "metadata": {},
   "outputs": [],
   "source": [
    "datas_std = pd.DataFrame(datas_std, columns=datas.columns)"
   ]
  },
  {
   "cell_type": "code",
   "execution_count": 61,
   "id": "ba371d83",
   "metadata": {},
   "outputs": [
    {
     "data": {
      "text/html": [
       "<div>\n",
       "<style scoped>\n",
       "    .dataframe tbody tr th:only-of-type {\n",
       "        vertical-align: middle;\n",
       "    }\n",
       "\n",
       "    .dataframe tbody tr th {\n",
       "        vertical-align: top;\n",
       "    }\n",
       "\n",
       "    .dataframe thead th {\n",
       "        text-align: right;\n",
       "    }\n",
       "</style>\n",
       "<table border=\"1\" class=\"dataframe\">\n",
       "  <thead>\n",
       "    <tr style=\"text-align: right;\">\n",
       "      <th></th>\n",
       "      <th>datetime_gmt</th>\n",
       "      <th>state_code</th>\n",
       "      <th>county_code</th>\n",
       "      <th>site_num</th>\n",
       "      <th>poc</th>\n",
       "      <th>latitude_rounded</th>\n",
       "      <th>longitude_rounded</th>\n",
       "      <th>mdl</th>\n",
       "      <th>method_code</th>\n",
       "    </tr>\n",
       "  </thead>\n",
       "  <tbody>\n",
       "    <tr>\n",
       "      <th>0</th>\n",
       "      <td>-1.685225</td>\n",
       "      <td>0.0</td>\n",
       "      <td>0.0</td>\n",
       "      <td>-0.926680</td>\n",
       "      <td>0.0</td>\n",
       "      <td>0.416123</td>\n",
       "      <td>-0.850770</td>\n",
       "      <td>0.0</td>\n",
       "      <td>0.0</td>\n",
       "    </tr>\n",
       "    <tr>\n",
       "      <th>1</th>\n",
       "      <td>-1.716779</td>\n",
       "      <td>0.0</td>\n",
       "      <td>0.0</td>\n",
       "      <td>-0.926680</td>\n",
       "      <td>0.0</td>\n",
       "      <td>0.416123</td>\n",
       "      <td>-0.850770</td>\n",
       "      <td>0.0</td>\n",
       "      <td>0.0</td>\n",
       "    </tr>\n",
       "    <tr>\n",
       "      <th>2</th>\n",
       "      <td>-1.719934</td>\n",
       "      <td>0.0</td>\n",
       "      <td>0.0</td>\n",
       "      <td>-0.926680</td>\n",
       "      <td>0.0</td>\n",
       "      <td>0.416123</td>\n",
       "      <td>-0.850770</td>\n",
       "      <td>0.0</td>\n",
       "      <td>0.0</td>\n",
       "    </tr>\n",
       "    <tr>\n",
       "      <th>3</th>\n",
       "      <td>-1.710468</td>\n",
       "      <td>0.0</td>\n",
       "      <td>0.0</td>\n",
       "      <td>-0.926680</td>\n",
       "      <td>0.0</td>\n",
       "      <td>0.416123</td>\n",
       "      <td>-0.850770</td>\n",
       "      <td>0.0</td>\n",
       "      <td>0.0</td>\n",
       "    </tr>\n",
       "    <tr>\n",
       "      <th>4</th>\n",
       "      <td>-1.707312</td>\n",
       "      <td>0.0</td>\n",
       "      <td>0.0</td>\n",
       "      <td>-0.926680</td>\n",
       "      <td>0.0</td>\n",
       "      <td>0.416123</td>\n",
       "      <td>-0.850770</td>\n",
       "      <td>0.0</td>\n",
       "      <td>0.0</td>\n",
       "    </tr>\n",
       "    <tr>\n",
       "      <th>...</th>\n",
       "      <td>...</td>\n",
       "      <td>...</td>\n",
       "      <td>...</td>\n",
       "      <td>...</td>\n",
       "      <td>...</td>\n",
       "      <td>...</td>\n",
       "      <td>...</td>\n",
       "      <td>...</td>\n",
       "      <td>...</td>\n",
       "    </tr>\n",
       "    <tr>\n",
       "      <th>995</th>\n",
       "      <td>1.435439</td>\n",
       "      <td>0.0</td>\n",
       "      <td>0.0</td>\n",
       "      <td>1.078135</td>\n",
       "      <td>0.0</td>\n",
       "      <td>-1.782165</td>\n",
       "      <td>0.415074</td>\n",
       "      <td>0.0</td>\n",
       "      <td>0.0</td>\n",
       "    </tr>\n",
       "    <tr>\n",
       "      <th>996</th>\n",
       "      <td>1.495391</td>\n",
       "      <td>0.0</td>\n",
       "      <td>0.0</td>\n",
       "      <td>1.078135</td>\n",
       "      <td>0.0</td>\n",
       "      <td>-1.782165</td>\n",
       "      <td>0.415074</td>\n",
       "      <td>0.0</td>\n",
       "      <td>0.0</td>\n",
       "    </tr>\n",
       "    <tr>\n",
       "      <th>997</th>\n",
       "      <td>1.441750</td>\n",
       "      <td>0.0</td>\n",
       "      <td>0.0</td>\n",
       "      <td>1.080132</td>\n",
       "      <td>0.0</td>\n",
       "      <td>0.847160</td>\n",
       "      <td>1.581521</td>\n",
       "      <td>0.0</td>\n",
       "      <td>0.0</td>\n",
       "    </tr>\n",
       "    <tr>\n",
       "      <th>998</th>\n",
       "      <td>1.463838</td>\n",
       "      <td>0.0</td>\n",
       "      <td>0.0</td>\n",
       "      <td>1.080132</td>\n",
       "      <td>0.0</td>\n",
       "      <td>0.847160</td>\n",
       "      <td>1.581521</td>\n",
       "      <td>0.0</td>\n",
       "      <td>0.0</td>\n",
       "    </tr>\n",
       "    <tr>\n",
       "      <th>999</th>\n",
       "      <td>1.460682</td>\n",
       "      <td>0.0</td>\n",
       "      <td>0.0</td>\n",
       "      <td>1.080132</td>\n",
       "      <td>0.0</td>\n",
       "      <td>0.847160</td>\n",
       "      <td>1.581521</td>\n",
       "      <td>0.0</td>\n",
       "      <td>0.0</td>\n",
       "    </tr>\n",
       "  </tbody>\n",
       "</table>\n",
       "<p>1000 rows × 9 columns</p>\n",
       "</div>"
      ],
      "text/plain": [
       "     datetime_gmt  state_code  county_code  site_num  poc  latitude_rounded  \\\n",
       "0       -1.685225         0.0          0.0 -0.926680  0.0          0.416123   \n",
       "1       -1.716779         0.0          0.0 -0.926680  0.0          0.416123   \n",
       "2       -1.719934         0.0          0.0 -0.926680  0.0          0.416123   \n",
       "3       -1.710468         0.0          0.0 -0.926680  0.0          0.416123   \n",
       "4       -1.707312         0.0          0.0 -0.926680  0.0          0.416123   \n",
       "..            ...         ...          ...       ...  ...               ...   \n",
       "995      1.435439         0.0          0.0  1.078135  0.0         -1.782165   \n",
       "996      1.495391         0.0          0.0  1.078135  0.0         -1.782165   \n",
       "997      1.441750         0.0          0.0  1.080132  0.0          0.847160   \n",
       "998      1.463838         0.0          0.0  1.080132  0.0          0.847160   \n",
       "999      1.460682         0.0          0.0  1.080132  0.0          0.847160   \n",
       "\n",
       "     longitude_rounded  mdl  method_code  \n",
       "0            -0.850770  0.0          0.0  \n",
       "1            -0.850770  0.0          0.0  \n",
       "2            -0.850770  0.0          0.0  \n",
       "3            -0.850770  0.0          0.0  \n",
       "4            -0.850770  0.0          0.0  \n",
       "..                 ...  ...          ...  \n",
       "995           0.415074  0.0          0.0  \n",
       "996           0.415074  0.0          0.0  \n",
       "997           1.581521  0.0          0.0  \n",
       "998           1.581521  0.0          0.0  \n",
       "999           1.581521  0.0          0.0  \n",
       "\n",
       "[1000 rows x 9 columns]"
      ]
     },
     "execution_count": 61,
     "metadata": {},
     "output_type": "execute_result"
    }
   ],
   "source": [
    "datas_std"
   ]
  },
  {
   "cell_type": "markdown",
   "id": "fa7fbcd1",
   "metadata": {},
   "source": [
    "### Split Data"
   ]
  },
  {
   "cell_type": "code",
   "execution_count": 62,
   "id": "515a3213",
   "metadata": {},
   "outputs": [],
   "source": [
    "xTrain, xTest, yTrain, yTest = train_test_split(datas_std, labels, test_size=0.33)"
   ]
  },
  {
   "cell_type": "code",
   "execution_count": 64,
   "id": "36160788",
   "metadata": {},
   "outputs": [
    {
     "data": {
      "text/html": [
       "<div>\n",
       "<style scoped>\n",
       "    .dataframe tbody tr th:only-of-type {\n",
       "        vertical-align: middle;\n",
       "    }\n",
       "\n",
       "    .dataframe tbody tr th {\n",
       "        vertical-align: top;\n",
       "    }\n",
       "\n",
       "    .dataframe thead th {\n",
       "        text-align: right;\n",
       "    }\n",
       "</style>\n",
       "<table border=\"1\" class=\"dataframe\">\n",
       "  <thead>\n",
       "    <tr style=\"text-align: right;\">\n",
       "      <th></th>\n",
       "      <th>datetime_gmt</th>\n",
       "      <th>state_code</th>\n",
       "      <th>county_code</th>\n",
       "      <th>site_num</th>\n",
       "      <th>poc</th>\n",
       "      <th>latitude_rounded</th>\n",
       "      <th>longitude_rounded</th>\n",
       "      <th>mdl</th>\n",
       "      <th>method_code</th>\n",
       "    </tr>\n",
       "  </thead>\n",
       "  <tbody>\n",
       "    <tr>\n",
       "      <th>194</th>\n",
       "      <td>-1.114102</td>\n",
       "      <td>0.0</td>\n",
       "      <td>0.0</td>\n",
       "      <td>-0.926680</td>\n",
       "      <td>0.0</td>\n",
       "      <td>0.416123</td>\n",
       "      <td>-0.850770</td>\n",
       "      <td>0.0</td>\n",
       "      <td>0.0</td>\n",
       "    </tr>\n",
       "    <tr>\n",
       "      <th>343</th>\n",
       "      <td>-0.656573</td>\n",
       "      <td>0.0</td>\n",
       "      <td>0.0</td>\n",
       "      <td>-0.926680</td>\n",
       "      <td>0.0</td>\n",
       "      <td>0.416123</td>\n",
       "      <td>-0.850770</td>\n",
       "      <td>0.0</td>\n",
       "      <td>0.0</td>\n",
       "    </tr>\n",
       "    <tr>\n",
       "      <th>378</th>\n",
       "      <td>-0.501960</td>\n",
       "      <td>0.0</td>\n",
       "      <td>0.0</td>\n",
       "      <td>-0.926680</td>\n",
       "      <td>0.0</td>\n",
       "      <td>0.416123</td>\n",
       "      <td>-0.850770</td>\n",
       "      <td>0.0</td>\n",
       "      <td>0.0</td>\n",
       "    </tr>\n",
       "    <tr>\n",
       "      <th>324</th>\n",
       "      <td>-0.722836</td>\n",
       "      <td>0.0</td>\n",
       "      <td>0.0</td>\n",
       "      <td>-0.926680</td>\n",
       "      <td>0.0</td>\n",
       "      <td>0.416123</td>\n",
       "      <td>-0.850770</td>\n",
       "      <td>0.0</td>\n",
       "      <td>0.0</td>\n",
       "    </tr>\n",
       "    <tr>\n",
       "      <th>537</th>\n",
       "      <td>0.438341</td>\n",
       "      <td>0.0</td>\n",
       "      <td>0.0</td>\n",
       "      <td>1.080132</td>\n",
       "      <td>0.0</td>\n",
       "      <td>0.847160</td>\n",
       "      <td>1.581521</td>\n",
       "      <td>0.0</td>\n",
       "      <td>0.0</td>\n",
       "    </tr>\n",
       "    <tr>\n",
       "      <th>...</th>\n",
       "      <td>...</td>\n",
       "      <td>...</td>\n",
       "      <td>...</td>\n",
       "      <td>...</td>\n",
       "      <td>...</td>\n",
       "      <td>...</td>\n",
       "      <td>...</td>\n",
       "      <td>...</td>\n",
       "      <td>...</td>\n",
       "    </tr>\n",
       "    <tr>\n",
       "      <th>370</th>\n",
       "      <td>-0.615553</td>\n",
       "      <td>0.0</td>\n",
       "      <td>0.0</td>\n",
       "      <td>-0.926680</td>\n",
       "      <td>0.0</td>\n",
       "      <td>0.416123</td>\n",
       "      <td>-0.850770</td>\n",
       "      <td>0.0</td>\n",
       "      <td>0.0</td>\n",
       "    </tr>\n",
       "    <tr>\n",
       "      <th>102</th>\n",
       "      <td>-1.407552</td>\n",
       "      <td>0.0</td>\n",
       "      <td>0.0</td>\n",
       "      <td>-0.926680</td>\n",
       "      <td>0.0</td>\n",
       "      <td>0.416123</td>\n",
       "      <td>-0.850770</td>\n",
       "      <td>0.0</td>\n",
       "      <td>0.0</td>\n",
       "    </tr>\n",
       "    <tr>\n",
       "      <th>289</th>\n",
       "      <td>-0.849051</td>\n",
       "      <td>0.0</td>\n",
       "      <td>0.0</td>\n",
       "      <td>-0.926680</td>\n",
       "      <td>0.0</td>\n",
       "      <td>0.416123</td>\n",
       "      <td>-0.850770</td>\n",
       "      <td>0.0</td>\n",
       "      <td>0.0</td>\n",
       "    </tr>\n",
       "    <tr>\n",
       "      <th>944</th>\n",
       "      <td>1.280826</td>\n",
       "      <td>0.0</td>\n",
       "      <td>0.0</td>\n",
       "      <td>1.078135</td>\n",
       "      <td>0.0</td>\n",
       "      <td>-1.782165</td>\n",
       "      <td>0.415074</td>\n",
       "      <td>0.0</td>\n",
       "      <td>0.0</td>\n",
       "    </tr>\n",
       "    <tr>\n",
       "      <th>790</th>\n",
       "      <td>1.003153</td>\n",
       "      <td>0.0</td>\n",
       "      <td>0.0</td>\n",
       "      <td>1.078135</td>\n",
       "      <td>0.0</td>\n",
       "      <td>-1.782165</td>\n",
       "      <td>0.415074</td>\n",
       "      <td>0.0</td>\n",
       "      <td>0.0</td>\n",
       "    </tr>\n",
       "  </tbody>\n",
       "</table>\n",
       "<p>670 rows × 9 columns</p>\n",
       "</div>"
      ],
      "text/plain": [
       "     datetime_gmt  state_code  county_code  site_num  poc  latitude_rounded  \\\n",
       "194     -1.114102         0.0          0.0 -0.926680  0.0          0.416123   \n",
       "343     -0.656573         0.0          0.0 -0.926680  0.0          0.416123   \n",
       "378     -0.501960         0.0          0.0 -0.926680  0.0          0.416123   \n",
       "324     -0.722836         0.0          0.0 -0.926680  0.0          0.416123   \n",
       "537      0.438341         0.0          0.0  1.080132  0.0          0.847160   \n",
       "..            ...         ...          ...       ...  ...               ...   \n",
       "370     -0.615553         0.0          0.0 -0.926680  0.0          0.416123   \n",
       "102     -1.407552         0.0          0.0 -0.926680  0.0          0.416123   \n",
       "289     -0.849051         0.0          0.0 -0.926680  0.0          0.416123   \n",
       "944      1.280826         0.0          0.0  1.078135  0.0         -1.782165   \n",
       "790      1.003153         0.0          0.0  1.078135  0.0         -1.782165   \n",
       "\n",
       "     longitude_rounded  mdl  method_code  \n",
       "194          -0.850770  0.0          0.0  \n",
       "343          -0.850770  0.0          0.0  \n",
       "378          -0.850770  0.0          0.0  \n",
       "324          -0.850770  0.0          0.0  \n",
       "537           1.581521  0.0          0.0  \n",
       "..                 ...  ...          ...  \n",
       "370          -0.850770  0.0          0.0  \n",
       "102          -0.850770  0.0          0.0  \n",
       "289          -0.850770  0.0          0.0  \n",
       "944           0.415074  0.0          0.0  \n",
       "790           0.415074  0.0          0.0  \n",
       "\n",
       "[670 rows x 9 columns]"
      ]
     },
     "execution_count": 64,
     "metadata": {},
     "output_type": "execute_result"
    }
   ],
   "source": [
    "xTrain"
   ]
  },
  {
   "cell_type": "code",
   "execution_count": 66,
   "id": "302babfc",
   "metadata": {},
   "outputs": [],
   "source": [
    "# make to numpy\n",
    "x_train = xTrain.to_numpy()\n",
    "y_train = yTrain.to_numpy()\n",
    "x_test = xTest.to_numpy()\n",
    "y_test = yTest.to_numpy()"
   ]
  },
  {
   "cell_type": "code",
   "execution_count": 67,
   "id": "04422934",
   "metadata": {},
   "outputs": [
    {
     "data": {
      "text/plain": [
       "array([[-1.11410228,  0.        ,  0.        , ..., -0.85076974,\n",
       "         0.        ,  0.        ],\n",
       "       [-0.65657319,  0.        ,  0.        , ..., -0.85076974,\n",
       "         0.        ,  0.        ],\n",
       "       [-0.5019599 ,  0.        ,  0.        , ..., -0.85076974,\n",
       "         0.        ,  0.        ],\n",
       "       ...,\n",
       "       [-0.84905094,  0.        ,  0.        , ..., -0.85076974,\n",
       "         0.        ,  0.        ],\n",
       "       [ 1.28082588,  0.        ,  0.        , ...,  0.41507394,\n",
       "         0.        ,  0.        ],\n",
       "       [ 1.00315305,  0.        ,  0.        , ...,  0.41507394,\n",
       "         0.        ,  0.        ]])"
      ]
     },
     "execution_count": 67,
     "metadata": {},
     "output_type": "execute_result"
    }
   ],
   "source": [
    "x_train"
   ]
  },
  {
   "cell_type": "code",
   "execution_count": 97,
   "id": "5a03de8e",
   "metadata": {},
   "outputs": [],
   "source": [
    "# svrModel = make_pipeline(StandardScaler(), SVR(C=1.0, epsilon=0.2))\n",
    "svrModel = SVR(kernel = 'rbf', epsilon = 0.2)"
   ]
  },
  {
   "cell_type": "code",
   "execution_count": 98,
   "id": "5a38db10",
   "metadata": {},
   "outputs": [
    {
     "data": {
      "text/plain": [
       "SVR(epsilon=0.2)"
      ]
     },
     "execution_count": 98,
     "metadata": {},
     "output_type": "execute_result"
    }
   ],
   "source": [
    "svrModel.fit(x_train, y_train)"
   ]
  },
  {
   "cell_type": "code",
   "execution_count": 99,
   "id": "e901659b",
   "metadata": {},
   "outputs": [],
   "source": [
    "yHat = svrModel.predict(x_test)"
   ]
  },
  {
   "cell_type": "code",
   "execution_count": 113,
   "id": "8e296166",
   "metadata": {},
   "outputs": [
    {
     "name": "stdout",
     "output_type": "stream",
     "text": [
      "MSE 43.04557467702368\n",
      "MAE 4.508447274826145\n",
      "MAE 575704314119829.9\n",
      "R^2 0.5969338388020269\n"
     ]
    }
   ],
   "source": [
    "print(f'MSE {metrics.mean_squared_error(y_test, yHat)}')\n",
    "print(f'MAE {metrics.mean_absolute_error(y_test, yHat)}')\n",
    "print(f'MAPE {metrics.mean_absolute_percentage_error(y_test, yHat)}')\n",
    "print(f'R^2 {metrics.r2_score(y_test, yHat)}')"
   ]
  },
  {
   "cell_type": "code",
   "execution_count": 81,
   "id": "38e40c4b",
   "metadata": {},
   "outputs": [
    {
     "name": "stdout",
     "output_type": "stream",
     "text": [
      "MSE 43.04557467702368\n",
      "MAE 4.508447274826145\n",
      "R^2 0.5969338388020269\n"
     ]
    }
   ],
   "source": [
    "print(f'MSE {metrics.mean_squared_error(y_test, yHat)}')\n",
    "print(f'MAE {metrics.mean_absolute_error(y_test, yHat)}')\n",
    "print(f'MAPE {metrics.mean_absolute_percentage_error(y_test, yHat)}')\n",
    "print(f'R^2 {metrics.r2_score(y_test, yHat)}')"
   ]
  },
  {
   "cell_type": "code",
   "execution_count": 89,
   "id": "d9810f2d",
   "metadata": {},
   "outputs": [
    {
     "name": "stdout",
     "output_type": "stream",
     "text": [
      "MSE 43.18689565925138\n",
      "MAE 4.517284853757631\n",
      "R^2 0.5956105504911926\n"
     ]
    }
   ],
   "source": [
    "print(f'MSE {metrics.mean_squared_error(y_test, yHat)}')\n",
    "print(f'MAE {metrics.mean_absolute_error(y_test, yHat)}')\n",
    "print(f'MAPE {metrics.mean_absolute_percentage_error(y_test, yHat)}')\n",
    "print(f'R^2 {metrics.r2_score(y_test, yHat)}')"
   ]
  },
  {
   "cell_type": "markdown",
   "id": "a1258242",
   "metadata": {},
   "source": [
    "### Cross Validation"
   ]
  },
  {
   "cell_type": "code",
   "execution_count": 93,
   "id": "c50d37af",
   "metadata": {},
   "outputs": [],
   "source": [
    "cvSVR = GridSearchCV(SVR(), [{'kernel': ['linear', 'poly', 'rbf', 'sigmoid'], 'epsilon': [0.1, 0.2, 0.3]}], cv=5, scoring='neg_mean_squared_error')\n",
    "# scoring = 'neg_mean_absolute_error'\n",
    "# scoring = 'r2'"
   ]
  },
  {
   "cell_type": "code",
   "execution_count": 94,
   "id": "d3ba434d",
   "metadata": {},
   "outputs": [
    {
     "data": {
      "text/plain": [
       "GridSearchCV(cv=5, estimator=SVR(),\n",
       "             param_grid=[{'epsilon': [0.1, 0.2, 0.3],\n",
       "                          'kernel': ['linear', 'poly', 'rbf', 'sigmoid']}],\n",
       "             scoring='neg_mean_squared_error')"
      ]
     },
     "execution_count": 94,
     "metadata": {},
     "output_type": "execute_result"
    }
   ],
   "source": [
    "cvSVR.fit(x_train, y_train)"
   ]
  },
  {
   "cell_type": "code",
   "execution_count": 92,
   "id": "ed2ae575",
   "metadata": {},
   "outputs": [
    {
     "data": {
      "text/plain": [
       "dict_keys(['explained_variance', 'r2', 'max_error', 'neg_median_absolute_error', 'neg_mean_absolute_error', 'neg_mean_absolute_percentage_error', 'neg_mean_squared_error', 'neg_mean_squared_log_error', 'neg_root_mean_squared_error', 'neg_mean_poisson_deviance', 'neg_mean_gamma_deviance', 'accuracy', 'top_k_accuracy', 'roc_auc', 'roc_auc_ovr', 'roc_auc_ovo', 'roc_auc_ovr_weighted', 'roc_auc_ovo_weighted', 'balanced_accuracy', 'average_precision', 'neg_log_loss', 'neg_brier_score', 'adjusted_rand_score', 'rand_score', 'homogeneity_score', 'completeness_score', 'v_measure_score', 'mutual_info_score', 'adjusted_mutual_info_score', 'normalized_mutual_info_score', 'fowlkes_mallows_score', 'precision', 'precision_macro', 'precision_micro', 'precision_samples', 'precision_weighted', 'recall', 'recall_macro', 'recall_micro', 'recall_samples', 'recall_weighted', 'f1', 'f1_macro', 'f1_micro', 'f1_samples', 'f1_weighted', 'jaccard', 'jaccard_macro', 'jaccard_micro', 'jaccard_samples', 'jaccard_weighted'])"
      ]
     },
     "execution_count": 92,
     "metadata": {},
     "output_type": "execute_result"
    }
   ],
   "source": [
    "metrics.SCORERS.keys()"
   ]
  },
  {
   "cell_type": "code",
   "execution_count": 96,
   "id": "47896673",
   "metadata": {},
   "outputs": [
    {
     "name": "stdout",
     "output_type": "stream",
     "text": [
      "{'epsilon': 0.2, 'kernel': 'rbf'}\n"
     ]
    }
   ],
   "source": [
    "print(cvSVR.best_params_)"
   ]
  },
  {
   "cell_type": "markdown",
   "id": "01ea8b0f",
   "metadata": {},
   "source": [
    "### Plots!"
   ]
  },
  {
   "cell_type": "code",
   "execution_count": 107,
   "id": "93a6dcd9",
   "metadata": {},
   "outputs": [
    {
     "data": {
      "text/plain": [
       "<matplotlib.collections.PathCollection at 0x23e408c27f0>"
      ]
     },
     "execution_count": 107,
     "metadata": {},
     "output_type": "execute_result"
    },
    {
     "data": {
      "image/png": "[encoded data removed]",
      "text/plain": [
       "<Figure size 432x288 with 1 Axes>"
      ]
     },
     "metadata": {
      "needs_background": "light"
     },
     "output_type": "display_data"
    }
   ],
   "source": [
    "# plt.scatter(x_train, y_train, color='red')\n",
    "# plt.plot(x_test, yHat, color='blue')\n",
    "# plt.title('Title')\n",
    "# plt.show()\n",
    "\n",
    "fig = plt.figure()\n",
    "graph = fig.add_axes([0,0,1,1])\n",
    "graph.scatter(xTrain['datetime_gmt'], y_train, color='red')"
   ]
  },
  {
   "cell_type": "code",
   "execution_count": 111,
   "id": "ce20558b",
   "metadata": {},
   "outputs": [
    {
     "data": {
      "text/plain": [
       "[<matplotlib.lines.Line2D at 0x23e415ca730>]"
      ]
     },
     "execution_count": 111,
     "metadata": {},
     "output_type": "execute_result"
    },
    {
     "data": {
      "image/png": "[encoded data removed]",
      "text/plain": [
       "<Figure size 432x288 with 1 Axes>"
      ]
     },
     "metadata": {
      "needs_background": "light"
     },
     "output_type": "display_data"
    }
   ],
   "source": [
    "plt.scatter(xTrain['datetime_gmt'], y_train, color='red')\n",
    "plt.plot(xTrain['datetime_gmt'], svrModel.predict(x_train), color='blue')"
   ]
  },
  {
   "cell_type": "code",
   "execution_count": 112,
   "id": "312ab5ae",
   "metadata": {},
   "outputs": [
    {
     "data": {
      "text/plain": [
       "[<matplotlib.lines.Line2D at 0x23e41626880>]"
      ]
     },
     "execution_count": 112,
     "metadata": {},
     "output_type": "execute_result"
    },
    {
     "data": {
      "image/png": "[encoded data removed]",
      "text/plain": [
       "<Figure size 432x288 with 1 Axes>"
      ]
     },
     "metadata": {
      "needs_background": "light"
     },
     "output_type": "display_data"
    }
   ],
   "source": [
    "plt.scatter(xTest['datetime_gmt'], y_test, color='red')\n",
    "plt.plot(xTest['datetime_gmt'], svrModel.predict(x_test), color='blue')"
   ]
  },
  {
   "cell_type": "code",
   "execution_count": null,
   "id": "ac6409f8",
   "metadata": {},
   "outputs": [],
   "source": []
  },
  {
   "cell_type": "code",
   "execution_count": null,
   "id": "0db85d63",
   "metadata": {},
   "outputs": [],
   "source": []
  }
 ],
 "metadata": {
  "kernelspec": {
   "display_name": "Python 3",
   "language": "python",
   "name": "python3"
  },
  "language_info": {
   "codemirror_mode": {
    "name": "ipython",
    "version": 3
   },
   "file_extension": ".py",
   "mimetype": "text/x-python",
   "name": "python",
   "nbconvert_exporter": "python",
   "pygments_lexer": "ipython3",
   "version": "3.8.8"
  }
 },
 "nbformat": 4,
 "nbformat_minor": 5
}
